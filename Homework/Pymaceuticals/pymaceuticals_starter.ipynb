{
 "cells": [
  {
   "cell_type": "markdown",
   "metadata": {},
   "source": [
    "## Observations and Insights "
   ]
  },
  {
   "cell_type": "markdown",
   "metadata": {},
   "source": [
    "1. The data is not perfect because not all the mice were weighed for the same amount of time. That means some mice had longer time for tumors to grow.\n",
    "2. Having a larger amount of mice to pull data from caused Ramicane and Capomulin to have more and larger outliers in their data.\n",
    "3. There is positive correlation between weight of mouse and weight of tumor. "
   ]
  },
  {
   "cell_type": "markdown",
   "metadata": {},
   "source": []
  },
  {
   "cell_type": "code",
   "execution_count": 59,
   "metadata": {},
   "outputs": [
    {
     "data": {
      "text/html": [
       "<div>\n",
       "<style scoped>\n",
       "    .dataframe tbody tr th:only-of-type {\n",
       "        vertical-align: middle;\n",
       "    }\n",
       "\n",
       "    .dataframe tbody tr th {\n",
       "        vertical-align: top;\n",
       "    }\n",
       "\n",
       "    .dataframe thead th {\n",
       "        text-align: right;\n",
       "    }\n",
       "</style>\n",
       "<table border=\"1\" class=\"dataframe\">\n",
       "  <thead>\n",
       "    <tr style=\"text-align: right;\">\n",
       "      <th></th>\n",
       "      <th>Mouse ID</th>\n",
       "      <th>Drug Regimen</th>\n",
       "      <th>Sex</th>\n",
       "      <th>Age_months</th>\n",
       "      <th>Weight (g)</th>\n",
       "      <th>Timepoint</th>\n",
       "      <th>Tumor Volume (mm3)</th>\n",
       "      <th>Metastatic Sites</th>\n",
       "    </tr>\n",
       "  </thead>\n",
       "  <tbody>\n",
       "    <tr>\n",
       "      <th>0</th>\n",
       "      <td>k403</td>\n",
       "      <td>Ramicane</td>\n",
       "      <td>Male</td>\n",
       "      <td>21</td>\n",
       "      <td>16</td>\n",
       "      <td>0</td>\n",
       "      <td>45.000000</td>\n",
       "      <td>0</td>\n",
       "    </tr>\n",
       "    <tr>\n",
       "      <th>1</th>\n",
       "      <td>k403</td>\n",
       "      <td>Ramicane</td>\n",
       "      <td>Male</td>\n",
       "      <td>21</td>\n",
       "      <td>16</td>\n",
       "      <td>5</td>\n",
       "      <td>38.825898</td>\n",
       "      <td>0</td>\n",
       "    </tr>\n",
       "    <tr>\n",
       "      <th>2</th>\n",
       "      <td>k403</td>\n",
       "      <td>Ramicane</td>\n",
       "      <td>Male</td>\n",
       "      <td>21</td>\n",
       "      <td>16</td>\n",
       "      <td>10</td>\n",
       "      <td>35.014271</td>\n",
       "      <td>1</td>\n",
       "    </tr>\n",
       "    <tr>\n",
       "      <th>3</th>\n",
       "      <td>k403</td>\n",
       "      <td>Ramicane</td>\n",
       "      <td>Male</td>\n",
       "      <td>21</td>\n",
       "      <td>16</td>\n",
       "      <td>15</td>\n",
       "      <td>34.223992</td>\n",
       "      <td>1</td>\n",
       "    </tr>\n",
       "    <tr>\n",
       "      <th>4</th>\n",
       "      <td>k403</td>\n",
       "      <td>Ramicane</td>\n",
       "      <td>Male</td>\n",
       "      <td>21</td>\n",
       "      <td>16</td>\n",
       "      <td>20</td>\n",
       "      <td>32.997729</td>\n",
       "      <td>1</td>\n",
       "    </tr>\n",
       "    <tr>\n",
       "      <th>...</th>\n",
       "      <td>...</td>\n",
       "      <td>...</td>\n",
       "      <td>...</td>\n",
       "      <td>...</td>\n",
       "      <td>...</td>\n",
       "      <td>...</td>\n",
       "      <td>...</td>\n",
       "      <td>...</td>\n",
       "    </tr>\n",
       "    <tr>\n",
       "      <th>1888</th>\n",
       "      <td>z969</td>\n",
       "      <td>Naftisol</td>\n",
       "      <td>Male</td>\n",
       "      <td>9</td>\n",
       "      <td>30</td>\n",
       "      <td>25</td>\n",
       "      <td>63.145652</td>\n",
       "      <td>2</td>\n",
       "    </tr>\n",
       "    <tr>\n",
       "      <th>1889</th>\n",
       "      <td>z969</td>\n",
       "      <td>Naftisol</td>\n",
       "      <td>Male</td>\n",
       "      <td>9</td>\n",
       "      <td>30</td>\n",
       "      <td>30</td>\n",
       "      <td>65.841013</td>\n",
       "      <td>3</td>\n",
       "    </tr>\n",
       "    <tr>\n",
       "      <th>1890</th>\n",
       "      <td>z969</td>\n",
       "      <td>Naftisol</td>\n",
       "      <td>Male</td>\n",
       "      <td>9</td>\n",
       "      <td>30</td>\n",
       "      <td>35</td>\n",
       "      <td>69.176246</td>\n",
       "      <td>4</td>\n",
       "    </tr>\n",
       "    <tr>\n",
       "      <th>1891</th>\n",
       "      <td>z969</td>\n",
       "      <td>Naftisol</td>\n",
       "      <td>Male</td>\n",
       "      <td>9</td>\n",
       "      <td>30</td>\n",
       "      <td>40</td>\n",
       "      <td>70.314904</td>\n",
       "      <td>4</td>\n",
       "    </tr>\n",
       "    <tr>\n",
       "      <th>1892</th>\n",
       "      <td>z969</td>\n",
       "      <td>Naftisol</td>\n",
       "      <td>Male</td>\n",
       "      <td>9</td>\n",
       "      <td>30</td>\n",
       "      <td>45</td>\n",
       "      <td>73.867845</td>\n",
       "      <td>4</td>\n",
       "    </tr>\n",
       "  </tbody>\n",
       "</table>\n",
       "<p>1893 rows × 8 columns</p>\n",
       "</div>"
      ],
      "text/plain": [
       "     Mouse ID Drug Regimen   Sex  Age_months  Weight (g)  Timepoint  \\\n",
       "0        k403     Ramicane  Male          21          16          0   \n",
       "1        k403     Ramicane  Male          21          16          5   \n",
       "2        k403     Ramicane  Male          21          16         10   \n",
       "3        k403     Ramicane  Male          21          16         15   \n",
       "4        k403     Ramicane  Male          21          16         20   \n",
       "...       ...          ...   ...         ...         ...        ...   \n",
       "1888     z969     Naftisol  Male           9          30         25   \n",
       "1889     z969     Naftisol  Male           9          30         30   \n",
       "1890     z969     Naftisol  Male           9          30         35   \n",
       "1891     z969     Naftisol  Male           9          30         40   \n",
       "1892     z969     Naftisol  Male           9          30         45   \n",
       "\n",
       "      Tumor Volume (mm3)  Metastatic Sites  \n",
       "0              45.000000                 0  \n",
       "1              38.825898                 0  \n",
       "2              35.014271                 1  \n",
       "3              34.223992                 1  \n",
       "4              32.997729                 1  \n",
       "...                  ...               ...  \n",
       "1888           63.145652                 2  \n",
       "1889           65.841013                 3  \n",
       "1890           69.176246                 4  \n",
       "1891           70.314904                 4  \n",
       "1892           73.867845                 4  \n",
       "\n",
       "[1893 rows x 8 columns]"
      ]
     },
     "execution_count": 59,
     "metadata": {},
     "output_type": "execute_result"
    }
   ],
   "source": [
    "# Dependencies and Setup\n",
    "import matplotlib.pyplot as plt\n",
    "import pandas as pd\n",
    "import scipy.stats as st\n",
    "import numpy as np\n",
    "from scipy.stats import linregress\n",
    "\n",
    "# Study data files\n",
    "mouse_metadata_path = \"data/Mouse_metadata.csv\"\n",
    "study_results_path = \"data/Study_results.csv\"\n",
    "\n",
    "# Read the mouse data and the study results\n",
    "mouse_metadata = pd.read_csv(mouse_metadata_path)\n",
    "study_results = pd.read_csv(study_results_path)\n",
    "\n",
    "mouse_data= pd.read_csv(mouse_metadata_path)\n",
    "study_data= pd.read_csv(study_results_path)\n",
    "\n",
    "# Combine the data into a single dataset\n",
    "combined_data = pd.merge(mouse_metadata, study_results, how=\"left\", on=[\"Mouse ID\", \"Mouse ID\"])\n",
    "combined_data\n",
    "combined_data2 =pd.merge(mouse_data, study_data, how=\"left\", on=[\"Mouse ID\", \"Mouse ID\"])\n",
    "combined_data2"
   ]
  },
  {
   "cell_type": "code",
   "execution_count": 60,
   "metadata": {},
   "outputs": [
    {
     "name": "stdout",
     "output_type": "stream",
     "text": [
      "249\n",
      "1893\n"
     ]
    }
   ],
   "source": [
    "# Checking the number of mice in the DataFrame.\n",
    "mouse_id = mouse_metadata[\"Mouse ID\"].count()\n",
    "print(mouse_id)\n",
    "total_mouse = combined_data[\"Mouse ID\"].count()\n",
    "print(total_mouse)"
   ]
  },
  {
   "cell_type": "code",
   "execution_count": 61,
   "metadata": {},
   "outputs": [
    {
     "name": "stdout",
     "output_type": "stream",
     "text": [
      "    Mouse ID Drug Regimen     Sex  Age_months  Weight (g)  Timepoint  \\\n",
      "909     g989     Propriva  Female          21          26          0   \n",
      "\n",
      "     Tumor Volume (mm3)  Metastatic Sites  \n",
      "909                45.0                 0  \n"
     ]
    }
   ],
   "source": [
    "# Getting the duplicate mice by ID number that shows up for Mouse ID and Timepoint. \n",
    "duplicate = combined_data[combined_data.duplicated()]\n",
    "print(duplicate)"
   ]
  },
  {
   "cell_type": "code",
   "execution_count": 62,
   "metadata": {},
   "outputs": [],
   "source": [
    "# Optional: Get all the data for the duplicate mouse ID. \n"
   ]
  },
  {
   "cell_type": "code",
   "execution_count": 63,
   "metadata": {},
   "outputs": [
    {
     "data": {
      "text/html": [
       "<div>\n",
       "<style scoped>\n",
       "    .dataframe tbody tr th:only-of-type {\n",
       "        vertical-align: middle;\n",
       "    }\n",
       "\n",
       "    .dataframe tbody tr th {\n",
       "        vertical-align: top;\n",
       "    }\n",
       "\n",
       "    .dataframe thead th {\n",
       "        text-align: right;\n",
       "    }\n",
       "</style>\n",
       "<table border=\"1\" class=\"dataframe\">\n",
       "  <thead>\n",
       "    <tr style=\"text-align: right;\">\n",
       "      <th></th>\n",
       "      <th>Mouse ID</th>\n",
       "      <th>Drug Regimen</th>\n",
       "      <th>Sex</th>\n",
       "      <th>Age_months</th>\n",
       "      <th>Weight (g)</th>\n",
       "      <th>Timepoint</th>\n",
       "      <th>Tumor Volume (mm3)</th>\n",
       "      <th>Metastatic Sites</th>\n",
       "    </tr>\n",
       "  </thead>\n",
       "  <tbody>\n",
       "    <tr>\n",
       "      <th>0</th>\n",
       "      <td>k403</td>\n",
       "      <td>Ramicane</td>\n",
       "      <td>Male</td>\n",
       "      <td>21</td>\n",
       "      <td>16</td>\n",
       "      <td>0</td>\n",
       "      <td>45.000000</td>\n",
       "      <td>0</td>\n",
       "    </tr>\n",
       "    <tr>\n",
       "      <th>1</th>\n",
       "      <td>k403</td>\n",
       "      <td>Ramicane</td>\n",
       "      <td>Male</td>\n",
       "      <td>21</td>\n",
       "      <td>16</td>\n",
       "      <td>5</td>\n",
       "      <td>38.825898</td>\n",
       "      <td>0</td>\n",
       "    </tr>\n",
       "    <tr>\n",
       "      <th>2</th>\n",
       "      <td>k403</td>\n",
       "      <td>Ramicane</td>\n",
       "      <td>Male</td>\n",
       "      <td>21</td>\n",
       "      <td>16</td>\n",
       "      <td>10</td>\n",
       "      <td>35.014271</td>\n",
       "      <td>1</td>\n",
       "    </tr>\n",
       "    <tr>\n",
       "      <th>3</th>\n",
       "      <td>k403</td>\n",
       "      <td>Ramicane</td>\n",
       "      <td>Male</td>\n",
       "      <td>21</td>\n",
       "      <td>16</td>\n",
       "      <td>15</td>\n",
       "      <td>34.223992</td>\n",
       "      <td>1</td>\n",
       "    </tr>\n",
       "    <tr>\n",
       "      <th>4</th>\n",
       "      <td>k403</td>\n",
       "      <td>Ramicane</td>\n",
       "      <td>Male</td>\n",
       "      <td>21</td>\n",
       "      <td>16</td>\n",
       "      <td>20</td>\n",
       "      <td>32.997729</td>\n",
       "      <td>1</td>\n",
       "    </tr>\n",
       "    <tr>\n",
       "      <th>...</th>\n",
       "      <td>...</td>\n",
       "      <td>...</td>\n",
       "      <td>...</td>\n",
       "      <td>...</td>\n",
       "      <td>...</td>\n",
       "      <td>...</td>\n",
       "      <td>...</td>\n",
       "      <td>...</td>\n",
       "    </tr>\n",
       "    <tr>\n",
       "      <th>1888</th>\n",
       "      <td>z969</td>\n",
       "      <td>Naftisol</td>\n",
       "      <td>Male</td>\n",
       "      <td>9</td>\n",
       "      <td>30</td>\n",
       "      <td>25</td>\n",
       "      <td>63.145652</td>\n",
       "      <td>2</td>\n",
       "    </tr>\n",
       "    <tr>\n",
       "      <th>1889</th>\n",
       "      <td>z969</td>\n",
       "      <td>Naftisol</td>\n",
       "      <td>Male</td>\n",
       "      <td>9</td>\n",
       "      <td>30</td>\n",
       "      <td>30</td>\n",
       "      <td>65.841013</td>\n",
       "      <td>3</td>\n",
       "    </tr>\n",
       "    <tr>\n",
       "      <th>1890</th>\n",
       "      <td>z969</td>\n",
       "      <td>Naftisol</td>\n",
       "      <td>Male</td>\n",
       "      <td>9</td>\n",
       "      <td>30</td>\n",
       "      <td>35</td>\n",
       "      <td>69.176246</td>\n",
       "      <td>4</td>\n",
       "    </tr>\n",
       "    <tr>\n",
       "      <th>1891</th>\n",
       "      <td>z969</td>\n",
       "      <td>Naftisol</td>\n",
       "      <td>Male</td>\n",
       "      <td>9</td>\n",
       "      <td>30</td>\n",
       "      <td>40</td>\n",
       "      <td>70.314904</td>\n",
       "      <td>4</td>\n",
       "    </tr>\n",
       "    <tr>\n",
       "      <th>1892</th>\n",
       "      <td>z969</td>\n",
       "      <td>Naftisol</td>\n",
       "      <td>Male</td>\n",
       "      <td>9</td>\n",
       "      <td>30</td>\n",
       "      <td>45</td>\n",
       "      <td>73.867845</td>\n",
       "      <td>4</td>\n",
       "    </tr>\n",
       "  </tbody>\n",
       "</table>\n",
       "<p>1880 rows × 8 columns</p>\n",
       "</div>"
      ],
      "text/plain": [
       "     Mouse ID Drug Regimen   Sex  Age_months  Weight (g)  Timepoint  \\\n",
       "0        k403     Ramicane  Male          21          16          0   \n",
       "1        k403     Ramicane  Male          21          16          5   \n",
       "2        k403     Ramicane  Male          21          16         10   \n",
       "3        k403     Ramicane  Male          21          16         15   \n",
       "4        k403     Ramicane  Male          21          16         20   \n",
       "...       ...          ...   ...         ...         ...        ...   \n",
       "1888     z969     Naftisol  Male           9          30         25   \n",
       "1889     z969     Naftisol  Male           9          30         30   \n",
       "1890     z969     Naftisol  Male           9          30         35   \n",
       "1891     z969     Naftisol  Male           9          30         40   \n",
       "1892     z969     Naftisol  Male           9          30         45   \n",
       "\n",
       "      Tumor Volume (mm3)  Metastatic Sites  \n",
       "0              45.000000                 0  \n",
       "1              38.825898                 0  \n",
       "2              35.014271                 1  \n",
       "3              34.223992                 1  \n",
       "4              32.997729                 1  \n",
       "...                  ...               ...  \n",
       "1888           63.145652                 2  \n",
       "1889           65.841013                 3  \n",
       "1890           69.176246                 4  \n",
       "1891           70.314904                 4  \n",
       "1892           73.867845                 4  \n",
       "\n",
       "[1880 rows x 8 columns]"
      ]
     },
     "execution_count": 63,
     "metadata": {},
     "output_type": "execute_result"
    }
   ],
   "source": [
    "# Create a clean DataFrame by dropping the duplicate mouse by its ID.\n",
    "clean_mouse = combined_data.loc[combined_data[\"Mouse ID\"] != \"g989\"]\n",
    "clean_mouse"
   ]
  },
  {
   "cell_type": "code",
   "execution_count": 64,
   "metadata": {},
   "outputs": [
    {
     "name": "stdout",
     "output_type": "stream",
     "text": [
      "248\n"
     ]
    }
   ],
   "source": [
    "# Checking the number of mice in the clean DataFrame.\n",
    "mouse_count = clean_mouse[\"Mouse ID\"].nunique()\n",
    "print(mouse_count)"
   ]
  },
  {
   "cell_type": "code",
   "execution_count": null,
   "metadata": {},
   "outputs": [],
   "source": []
  },
  {
   "cell_type": "markdown",
   "metadata": {},
   "source": [
    "## Summary Statistics"
   ]
  },
  {
   "cell_type": "code",
   "execution_count": 76,
   "metadata": {},
   "outputs": [],
   "source": [
    "# Generate a summary statistics table of mean, median, variance, standard deviation, and SEM of the tumor volume for each regimen\n",
    "Regimen_list = clean_mouse[\"Drug Regimen\"].unique()\n",
    "#print(Regimen_list)\n",
    "columns = [\"Mouse ID\",\"Drug Regimen\",\"Sex\",\"Age_months\",\"Weight (g)\",\"Timepoint\",\"Tumor Volume (mm3)\",\"Metastatic Sites\"]\n",
    "Ramicane_df = clean_mouse.loc[clean_mouse[\"Drug Regimen\"] == \"Ramicane\", columns]\n",
    "Ramicane_df\n",
    "Ramicane = Ramicane_df[\"Tumor Volume (mm3)\"].describe()\n",
    "Ramicane_sem = Ramicane_df[\"Tumor Volume (mm3)\"].sem()\n",
    "Ramicane_var = Ramicane_df[\"Tumor Volume (mm3)\"].var()\n",
    "#print(Ramicane_var)\n",
    "#print(Ramicane_sem)\n",
    "#print(Ramicane)\n",
    "Capomulin_df = clean_mouse.loc[clean_mouse[\"Drug Regimen\"] == \"Capomulin\", columns]\n",
    "Capomulin_df\n",
    "Capomulin = Capomulin_df[\"Tumor Volume (mm3)\"].describe()\n",
    "Capomulin_sem = Capomulin_df[\"Tumor Volume (mm3)\"].sem()\n",
    "Capomulin_var = Capomulin_df[\"Tumor Volume (mm3)\"].var()\n",
    "#print(Capomulin_var)\n",
    "#print(Capomulin_sem)\n",
    "#print(Capomulin)\n",
    "Infubinol_df = clean_mouse.loc[clean_mouse[\"Drug Regimen\"] == \"Infubinol\", columns]\n",
    "Infubinol_df\n",
    "Infubinol = Infubinol_df[\"Tumor Volume (mm3)\"].describe()\n",
    "Infubinol_sem = Infubinol_df[\"Tumor Volume (mm3)\"].sem()\n",
    "Infubinol_var = Infubinol_df[\"Tumor Volume (mm3)\"].var()\n",
    "#print(Infubinol_var)\n",
    "#print(Infubinol_sem)\n",
    "#print(Infubinol)\n",
    "Placebo_df = clean_mouse.loc[clean_mouse[\"Drug Regimen\"] == \"Placebo\", columns]\n",
    "Placebo_df\n",
    "Placebo = Placebo_df[\"Tumor Volume (mm3)\"].describe()\n",
    "Placebo_sem = Placebo_df[\"Tumor Volume (mm3)\"].sem()\n",
    "Placebo_var = Placebo_df[\"Tumor Volume (mm3)\"].var()\n",
    "#print(Placebo_var)\n",
    "#print(Placebo_sem)\n",
    "#print(Placebo)\n",
    "Ceftamin_df = clean_mouse.loc[clean_mouse[\"Drug Regimen\"] == \"Ceftamin\", columns]\n",
    "Ceftamin_df\n",
    "Ceftamin = Ceftamin_df[\"Tumor Volume (mm3)\"].describe()\n",
    "Ceftamin_sem = Ceftamin_df[\"Tumor Volume (mm3)\"].sem()\n",
    "Ceftamin_var = Ceftamin_df[\"Tumor Volume (mm3)\"].var()\n",
    "#print(Ceftamin_var)\n",
    "#print(Ceftamin_sem)\n",
    "#print(Ceftamin)\n",
    "Stelasyn_df = clean_mouse.loc[clean_mouse[\"Drug Regimen\"] == \"Stelasyn\", columns]\n",
    "Stelasyn_df\n",
    "Stelasyn = Stelasyn_df[\"Tumor Volume (mm3)\"].describe()\n",
    "Stelasyn_sem = Stelasyn_df[\"Tumor Volume (mm3)\"].sem()\n",
    "Stelasyn_var = Stelasyn_df[\"Tumor Volume (mm3)\"].var()\n",
    "#print(Stelasyn_var)\n",
    "#print(Stelasyn_sem)\n",
    "#print(Stelasyn)\n",
    "Zoniferol_df = clean_mouse.loc[clean_mouse[\"Drug Regimen\"] == \"Zoniferol\", columns]\n",
    "Zoniferol_df\n",
    "Zoniferol = Zoniferol_df[\"Tumor Volume (mm3)\"].describe()\n",
    "Zoniferol_sem = Zoniferol_df[\"Tumor Volume (mm3)\"].sem()\n",
    "Zoniferol_var = Zoniferol_df[\"Tumor Volume (mm3)\"].var()\n",
    "#print(Zoniferol_var)\n",
    "#print(Zoniferol_sem)\n",
    "#print(Zoniferol)\n",
    "Ketapril_df = clean_mouse.loc[clean_mouse[\"Drug Regimen\"] == \"Ketapril\", columns]\n",
    "Ketapril_df\n",
    "Ketapril = Ketapril_df[\"Tumor Volume (mm3)\"].describe()\n",
    "Ketapril_sem = Ketapril_df[\"Tumor Volume (mm3)\"].sem()\n",
    "Ketapril_var = Ketapril_df[\"Tumor Volume (mm3)\"].var()\n",
    "#print(Ketapril_var)\n",
    "#print(Ketapril_sem)\n",
    "#print(Ketapril)\n",
    "Propriva_df = clean_mouse.loc[clean_mouse[\"Drug Regimen\"] == \"Propriva\", columns]\n",
    "Propriva_df\n",
    "Propriva = Propriva_df[\"Tumor Volume (mm3)\"].describe()\n",
    "Propriva_sem = Propriva_df[\"Tumor Volume (mm3)\"].sem()\n",
    "Propriva_var = Propriva_df[\"Tumor Volume (mm3)\"].var()\n",
    "#print(Propriva_var)\n",
    "#print(Propriva_sem)\n",
    "#print(Propriva)\n",
    "Naftisol_df = clean_mouse.loc[clean_mouse[\"Drug Regimen\"] == \"Naftisol\", columns]\n",
    "Naftisol_df\n",
    "Naftisol = Naftisol_df[\"Tumor Volume (mm3)\"].describe()\n",
    "Naftisol_sem = Naftisol_df[\"Tumor Volume (mm3)\"].sem()\n",
    "Naftisol_var = Naftisol_df[\"Tumor Volume (mm3)\"].var()\n",
    "#print(Naftisol_var)\n",
    "#print(Naftisol_sem)\n",
    "#print(Naftisol)\n",
    "# This method is the most straighforward, creating multiple series and putting them all together at the end."
   ]
  },
  {
   "cell_type": "code",
   "execution_count": null,
   "metadata": {},
   "outputs": [],
   "source": []
  },
  {
   "cell_type": "code",
   "execution_count": 66,
   "metadata": {
    "scrolled": true
   },
   "outputs": [
    {
     "data": {
      "text/html": [
       "<div>\n",
       "<style scoped>\n",
       "    .dataframe tbody tr th:only-of-type {\n",
       "        vertical-align: middle;\n",
       "    }\n",
       "\n",
       "    .dataframe tbody tr th {\n",
       "        vertical-align: top;\n",
       "    }\n",
       "\n",
       "    .dataframe thead th {\n",
       "        text-align: right;\n",
       "    }\n",
       "</style>\n",
       "<table border=\"1\" class=\"dataframe\">\n",
       "  <thead>\n",
       "    <tr style=\"text-align: right;\">\n",
       "      <th></th>\n",
       "      <th>Ramicane</th>\n",
       "      <th>Capomulin</th>\n",
       "      <th>Infubinol</th>\n",
       "      <th>Placebo</th>\n",
       "      <th>Ceftamin</th>\n",
       "      <th>Stelasyn</th>\n",
       "      <th>Zoniferol</th>\n",
       "      <th>Ketapril</th>\n",
       "      <th>Propriva</th>\n",
       "      <th>Naftisol</th>\n",
       "    </tr>\n",
       "  </thead>\n",
       "  <tbody>\n",
       "    <tr>\n",
       "      <th>Var</th>\n",
       "      <td>23.4867</td>\n",
       "      <td>24.9478</td>\n",
       "      <td>43.1287</td>\n",
       "      <td>61.1681</td>\n",
       "      <td>39.2902</td>\n",
       "      <td>59.4506</td>\n",
       "      <td>48.5334</td>\n",
       "      <td>68.5536</td>\n",
       "      <td>43.852</td>\n",
       "      <td>66.1735</td>\n",
       "    </tr>\n",
       "    <tr>\n",
       "      <th>Sem</th>\n",
       "      <td>0.320955</td>\n",
       "      <td>0.329346</td>\n",
       "      <td>0.492236</td>\n",
       "      <td>0.581331</td>\n",
       "      <td>0.469821</td>\n",
       "      <td>0.573111</td>\n",
       "      <td>0.516398</td>\n",
       "      <td>0.60386</td>\n",
       "      <td>0.544332</td>\n",
       "      <td>0.596466</td>\n",
       "    </tr>\n",
       "    <tr>\n",
       "      <th>Describe</th>\n",
       "      <td>count    228.000000\n",
       "mean      40.216745\n",
       "std   ...</td>\n",
       "      <td>count    230.000000\n",
       "mean      40.675741\n",
       "std   ...</td>\n",
       "      <td>count    178.000000\n",
       "mean      52.884795\n",
       "std   ...</td>\n",
       "      <td>count    181.000000\n",
       "mean      54.033581\n",
       "std   ...</td>\n",
       "      <td>count    178.000000\n",
       "mean      52.591172\n",
       "std   ...</td>\n",
       "      <td>count    181.000000\n",
       "mean      54.233149\n",
       "std   ...</td>\n",
       "      <td>count    182.000000\n",
       "mean      53.236507\n",
       "std   ...</td>\n",
       "      <td>count    188.000000\n",
       "mean      55.235638\n",
       "std   ...</td>\n",
       "      <td>count    148.000000\n",
       "mean      52.320930\n",
       "std   ...</td>\n",
       "      <td>count    186.000000\n",
       "mean      54.331565\n",
       "std   ...</td>\n",
       "    </tr>\n",
       "  </tbody>\n",
       "</table>\n",
       "</div>"
      ],
      "text/plain": [
       "                                                   Ramicane  \\\n",
       "Var                                                 23.4867   \n",
       "Sem                                                0.320955   \n",
       "Describe  count    228.000000\n",
       "mean      40.216745\n",
       "std   ...   \n",
       "\n",
       "                                                  Capomulin  \\\n",
       "Var                                                 24.9478   \n",
       "Sem                                                0.329346   \n",
       "Describe  count    230.000000\n",
       "mean      40.675741\n",
       "std   ...   \n",
       "\n",
       "                                                  Infubinol  \\\n",
       "Var                                                 43.1287   \n",
       "Sem                                                0.492236   \n",
       "Describe  count    178.000000\n",
       "mean      52.884795\n",
       "std   ...   \n",
       "\n",
       "                                                    Placebo  \\\n",
       "Var                                                 61.1681   \n",
       "Sem                                                0.581331   \n",
       "Describe  count    181.000000\n",
       "mean      54.033581\n",
       "std   ...   \n",
       "\n",
       "                                                   Ceftamin  \\\n",
       "Var                                                 39.2902   \n",
       "Sem                                                0.469821   \n",
       "Describe  count    178.000000\n",
       "mean      52.591172\n",
       "std   ...   \n",
       "\n",
       "                                                   Stelasyn  \\\n",
       "Var                                                 59.4506   \n",
       "Sem                                                0.573111   \n",
       "Describe  count    181.000000\n",
       "mean      54.233149\n",
       "std   ...   \n",
       "\n",
       "                                                  Zoniferol  \\\n",
       "Var                                                 48.5334   \n",
       "Sem                                                0.516398   \n",
       "Describe  count    182.000000\n",
       "mean      53.236507\n",
       "std   ...   \n",
       "\n",
       "                                                   Ketapril  \\\n",
       "Var                                                 68.5536   \n",
       "Sem                                                 0.60386   \n",
       "Describe  count    188.000000\n",
       "mean      55.235638\n",
       "std   ...   \n",
       "\n",
       "                                                   Propriva  \\\n",
       "Var                                                  43.852   \n",
       "Sem                                                0.544332   \n",
       "Describe  count    148.000000\n",
       "mean      52.320930\n",
       "std   ...   \n",
       "\n",
       "                                                   Naftisol  \n",
       "Var                                                 66.1735  \n",
       "Sem                                                0.596466  \n",
       "Describe  count    186.000000\n",
       "mean      54.331565\n",
       "std   ...  "
      ]
     },
     "execution_count": 66,
     "metadata": {},
     "output_type": "execute_result"
    }
   ],
   "source": [
    "# Generate a summary statistics table of mean, median, variance, standard deviation, and SEM of the tumor volume for each regimen\n",
    "\n",
    "\n",
    "sem_var = pd.DataFrame ({\n",
    "    'Ramicane':(Ramicane_var, Ramicane_sem,Ramicane),\n",
    "    \"Capomulin\":(Capomulin_var,Capomulin_sem,Capomulin),\n",
    "    \"Infubinol\":(Infubinol_var, Infubinol_sem,Infubinol),\n",
    "    \"Placebo\":(Placebo_var, Placebo_sem,Placebo),\n",
    "     \"Ceftamin\":(Ceftamin_var, Ceftamin_sem,Ceftamin),\n",
    "    \"Stelasyn\":(Stelasyn_var, Stelasyn_sem,Stelasyn),\n",
    "    \"Zoniferol\":(Zoniferol_var, Zoniferol_sem,Zoniferol),\n",
    "    \"Ketapril\":(Ketapril_var, Ketapril_sem,Ketapril),\n",
    "    \"Propriva\":(Propriva_var, Propriva_sem,Propriva),\n",
    "    \"Naftisol\":(Naftisol_var, Naftisol_sem,Naftisol)\n",
    "    })\n",
    "sem_var = sem_var[[\n",
    "    'Ramicane',\n",
    "    \"Capomulin\",\n",
    "    \"Infubinol\",\n",
    "    \"Placebo\",\n",
    "     \"Ceftamin\",\n",
    "    \"Stelasyn\",\n",
    "    \"Zoniferol\",\n",
    "    \"Ketapril\",\n",
    "    \"Propriva\",\n",
    "    \"Naftisol\"]]\n",
    "sem_var.index = [\"Var\", \"Sem\", \"Describe\"]\n",
    "(sem_var)\n",
    "\n"
   ]
  },
  {
   "cell_type": "markdown",
   "metadata": {},
   "source": [
    "## Bar Plots"
   ]
  },
  {
   "cell_type": "code",
   "execution_count": 67,
   "metadata": {},
   "outputs": [
    {
     "data": {
      "text/plain": [
       "Text(0, 0.5, '# of Datapoints')"
      ]
     },
     "execution_count": 67,
     "metadata": {},
     "output_type": "execute_result"
    },
    {
     "data": {
      "image/png": "[encoded data removed]",
      "text/plain": [
       "<Figure size 432x288 with 1 Axes>"
      ]
     },
     "metadata": {
      "needs_background": "light"
     },
     "output_type": "display_data"
    }
   ],
   "source": [
    "# Generate a bar plot showing the number of mice per time point for each treatment throughout the course of the study using pandas. \n",
    "clean_mouse[\"Drug Regimen\"].value_counts().plot(kind = \"bar\")\n",
    "plt.xlabel(\"Drug Regimen\")\n",
    "plt.ylabel(\"# of Datapoints\")"
   ]
  },
  {
   "cell_type": "code",
   "execution_count": 68,
   "metadata": {},
   "outputs": [
    {
     "data": {
      "text/plain": [
       "Text(0, 0.5, '# of Datapoints')"
      ]
     },
     "execution_count": 68,
     "metadata": {},
     "output_type": "execute_result"
    },
    {
     "data": {
      "image/png": "[encoded data removed]",
      "text/plain": [
       "<Figure size 432x288 with 1 Axes>"
      ]
     },
     "metadata": {
      "needs_background": "light"
     },
     "output_type": "display_data"
    }
   ],
   "source": [
    "# Generate a bar plot showing the number of mice per time point for each treatment throughout the course of the study using pyplot.\n",
    "Regimen_list = clean_mouse[\"Drug Regimen\"].unique()\n",
    "Regimen = clean_mouse[\"Drug Regimen\"].value_counts()\n",
    "x_axis = np.arange(len(Regimen))\n",
    "plt.bar(Regimen_list, Regimen, color=\"b\", align=\"center\")\n",
    "tick_locations = [value for value in x_axis]\n",
    "plt.xticks(tick_locations, Regimen_list, rotation=\"vertical\")\n",
    "plt.xlabel(\"Drug Regimen\")\n",
    "plt.ylabel(\"# of Datapoints\")"
   ]
  },
  {
   "cell_type": "markdown",
   "metadata": {},
   "source": [
    "## Pie Plots"
   ]
  },
  {
   "cell_type": "code",
   "execution_count": 69,
   "metadata": {},
   "outputs": [
    {
     "data": {
      "image/png": "[encoded data removed]",
      "text/plain": [
       "<Figure size 360x360 with 1 Axes>"
      ]
     },
     "metadata": {},
     "output_type": "display_data"
    }
   ],
   "source": [
    "# Generate a pie plot showing the distribution of female versus male mice using pandas\n",
    "gender_mouse = mouse_data.loc[mouse_data[\"Mouse ID\"] != \"g989\"]\n",
    "gender_mouse \n",
    "gender_clean_mouse = gender_mouse.groupby([\"Sex\"])\n",
    "gender_clean_mouse.count()\n",
    "pie_df = pd.DataFrame({'sex': [123 , 125]},\n",
    "                      index = ['Female', 'Male'])\n",
    "plot = pie_df.plot.pie(y='sex', figsize=(5,5), autopct=\"%1.1f%%\")"
   ]
  },
  {
   "cell_type": "code",
   "execution_count": 70,
   "metadata": {},
   "outputs": [
    {
     "name": "stdout",
     "output_type": "stream",
     "text": [
      "123\n",
      "125\n"
     ]
    },
    {
     "data": {
      "text/plain": [
       "([<matplotlib.patches.Wedge at 0xd7cbac19a0>,\n",
       "  <matplotlib.patches.Wedge at 0xd7cbace0a0>],\n",
       " [Text(-0.7829277575363616, -0.9094086685748517, 'Female'),\n",
       "  Text(0.7176837777416649, 0.8336246128602806, 'Male')],\n",
       " [Text(-0.45670785856287754, -0.5304883900019968, '49.6%'),\n",
       "  Text(0.39146387876818084, 0.4547043342874257, '50.4%')])"
      ]
     },
     "execution_count": 70,
     "metadata": {},
     "output_type": "execute_result"
    },
    {
     "data": {
      "image/png": "[encoded data removed]",
      "text/plain": [
       "<Figure size 432x288 with 1 Axes>"
      ]
     },
     "metadata": {},
     "output_type": "display_data"
    }
   ],
   "source": [
    "# Generate a pie plot showing the distribution of female versus male mice using pyplot\n",
    "\n",
    "rows = [\"Mouse ID\", \"Sex\"]\n",
    "Female_df = clean_mouse.loc[clean_mouse[\"Sex\"] == \"Female\", rows]\n",
    "Female_df\n",
    "Male_df = clean_mouse.loc[clean_mouse[\"Sex\"] == \"Male\", rows]\n",
    "Male_df\n",
    "female_mouse = Female_df[\"Mouse ID\"].nunique()\n",
    "print(female_mouse)\n",
    "male_mouse = Male_df[\"Mouse ID\"].nunique()\n",
    "print(male_mouse)\n",
    "\n",
    "labels = [\"Female\", \"Male\"]\n",
    "\n",
    "sizes = [123, 125]\n",
    "\n",
    "colors = [\"red\", \"blue\"]\n",
    "\n",
    "explode = (0.1, 0,)\n",
    "\n",
    "plt.pie(sizes, explode=explode, labels=labels, colors=colors,\n",
    "        autopct=\"%1.1f%%\", shadow=True, startangle=140)"
   ]
  },
  {
   "cell_type": "markdown",
   "metadata": {},
   "source": [
    "## Quartiles, Outliers and Boxplots"
   ]
  },
  {
   "cell_type": "code",
   "execution_count": 71,
   "metadata": {},
   "outputs": [
    {
     "name": "stdout",
     "output_type": "stream",
     "text": [
      "The Capomulin interquartile range of temperatures is: 7.314067135000002\n",
      "The Ramicane interquartile range of temperatures is: 8.325365415000007\n",
      "The Infubinol interquartile range of temperatures is: 10.002090667500006\n",
      "The Infubinol interquartile range of temperatures is: 9.5930104575\n",
      "Capomulin Values below 26.714832162499995 could be outliers.\n",
      "Capomulin Values above 34.0288992975 could be outliers.\n",
      "Ramicane Values below 24.18658646249998 could be outliers.\n",
      "Ramicane Values above 32.51195187749999 could be outliers.\n",
      "Infubinol Values below 32.309217298749985 could be outliers.\n",
      "Infubinol Values above 42.31130796625 could be outliers.\n",
      "Ceftamin Values below 32.818911426250004 could be outliers.\n",
      "Ceftamin Values above 42.411921883750004 could be outliers.\n"
     ]
    }
   ],
   "source": [
    "# Calculate the final tumor volume of each mouse across four of the most promising treatment regimens. Calculate the IQR and quantitatively determine if there are any potential outliers. \n",
    "Capomulin_l = Capomulin.loc[\"25%\"]\n",
    "Capomulin_l\n",
    "Capomulin_u = Capomulin.loc[\"75%\"]\n",
    "Capomulin_u\n",
    "Capomulin_iqr = (Capomulin_u - Capomulin_l)\n",
    "Capomulin_iqr\n",
    "Capomulin_lower = Capomulin_l - (1.5*Capomulin_iqr)\n",
    "Capomulin_lower\n",
    "Capomulin_upper = Capomulin_u - (1.5*Capomulin_iqr)\n",
    "Capomulin_upper\n",
    "Ramicane_l = Ramicane.loc[\"25%\"]\n",
    "Ramicane_l\n",
    "Ramicane_u = Ramicane.loc[\"75%\"]\n",
    "Ramicane_u\n",
    "Ramicane_iqr = (Ramicane_u - Ramicane_l)\n",
    "Ramicane_iqr\n",
    "Ramicane_lower = Ramicane_l - (1.5*Ramicane_iqr)\n",
    "Ramicane_lower\n",
    "Ramicane_upper = Ramicane_u - (1.5*Ramicane_iqr)\n",
    "Ramicane_upper\n",
    "Infubinol_l = Infubinol.loc[\"25%\"]\n",
    "Infubinol_l\n",
    "Infubinol_u = Infubinol.loc[\"75%\"]\n",
    "Infubinol_u\n",
    "Infubinol_iqr = (Infubinol_u - Infubinol_l)\n",
    "Infubinol_iqr\n",
    "Infubinol_lower = Infubinol_l - (1.5*Infubinol_iqr)\n",
    "Infubinol_lower\n",
    "Infubinol_upper = Infubinol_u - (1.5*Infubinol_iqr)\n",
    "Infubinol_upper\n",
    "Ceftamin_l = Ceftamin.loc[\"25%\"]\n",
    "Ceftamin_l\n",
    "Ceftamin_u = Ceftamin.loc[\"75%\"]\n",
    "Ceftamin_u\n",
    "Ceftamin_iqr = (Ceftamin_u -Ceftamin_l)\n",
    "Ceftamin_iqr\n",
    "Ceftamin_lower = Ceftamin_l - (1.5*Ceftamin_iqr)\n",
    "Ceftamin_lower\n",
    "Ceftamin_upper = Ceftamin_u - (1.5*Ceftamin_iqr)\n",
    "Ceftamin_upper\n",
    "print(f\"The Capomulin interquartile range of temperatures is: {Capomulin_iqr}\")\n",
    "print(f\"The Ramicane interquartile range of temperatures is: {Ramicane_iqr}\")\n",
    "print(f\"The Infubinol interquartile range of temperatures is: {Infubinol_iqr}\")\n",
    "print(f\"The Infubinol interquartile range of temperatures is: {Ceftamin_iqr}\")\n",
    "print(f\"Capomulin Values below {Capomulin_lower} could be outliers.\")\n",
    "print(f\"Capomulin Values above {Capomulin_upper} could be outliers.\")\n",
    "print(f\"Ramicane Values below {Ramicane_lower} could be outliers.\")\n",
    "print(f\"Ramicane Values above {Ramicane_upper} could be outliers.\")\n",
    "print(f\"Infubinol Values below {Infubinol_lower} could be outliers.\")\n",
    "print(f\"Infubinol Values above {Infubinol_upper} could be outliers.\")\n",
    "print(f\"Ceftamin Values below {Ceftamin_lower} could be outliers.\")\n",
    "print(f\"Ceftamin Values above {Ceftamin_upper} could be outliers.\")"
   ]
  },
  {
   "cell_type": "code",
   "execution_count": 72,
   "metadata": {},
   "outputs": [
    {
     "data": {
      "image/png": "[encoded data removed]",
      "text/plain": [
       "<Figure size 432x288 with 1 Axes>"
      ]
     },
     "metadata": {
      "needs_background": "light"
     },
     "output_type": "display_data"
    }
   ],
   "source": [
    "# Generate a box plot of the final tumor volume of each mouse across four regimens of interest\n",
    "fig1, ax1 = plt.subplots()\n",
    "whisker = plt.boxplot([Capomulin, Ramicane, Infubinol, Ceftamin],\n",
    "                     labels = [\"Capomulin\", \"Ramicane\", \"Infubinol\", \"Ceftamin\"])"
   ]
  },
  {
   "cell_type": "markdown",
   "metadata": {},
   "source": [
    "## Line and Scatter Plots"
   ]
  },
  {
   "cell_type": "code",
   "execution_count": 73,
   "metadata": {},
   "outputs": [
    {
     "data": {
      "text/plain": [
       "Text(0, 0.5, 'Tumor Volume (mm3)')"
      ]
     },
     "execution_count": 73,
     "metadata": {},
     "output_type": "execute_result"
    },
    {
     "data": {
      "image/png": "[encoded data removed]",
      "text/plain": [
       "<Figure size 432x288 with 1 Axes>"
      ]
     },
     "metadata": {
      "needs_background": "light"
     },
     "output_type": "display_data"
    }
   ],
   "source": [
    "# Generate a line plot of time point versus tumor volume for a mouse treated with Capomulin\n",
    "Capomulin_b = Capomulin_df.loc[Capomulin_df[\"Mouse ID\"] == \"b128\", columns]\n",
    "Capomulin_b\n",
    "line = Capomulin_b.pivot(index = \"Timepoint\", columns = \"Mouse ID\", values = \"Tumor Volume (mm3)\").plot()\n",
    "plt.ylabel(\"Tumor Volume (mm3)\")"
   ]
  },
  {
   "cell_type": "code",
   "execution_count": 74,
   "metadata": {},
   "outputs": [
    {
     "data": {
      "text/plain": [
       "Text(0, 0.5, 'Tumor Volume (mm3)')"
      ]
     },
     "execution_count": 74,
     "metadata": {},
     "output_type": "execute_result"
    },
    {
     "data": {
      "image/png": "[encoded data removed]",
      "text/plain": [
       "<Figure size 432x288 with 1 Axes>"
      ]
     },
     "metadata": {
      "needs_background": "light"
     },
     "output_type": "display_data"
    }
   ],
   "source": [
    "# Generate a scatter plot of mouse weight versus average tumor volume for the Capomulin regimen\n",
    "tumor_vol = Capomulin_df[\"Tumor Volume (mm3)\"]\n",
    "mouse_id = Capomulin_df[\"Mouse ID\"]\n",
    "weigh = Capomulin_df[\"Weight (g)\"]\n",
    "Average_tumor_vol = pd.DataFrame({\n",
    "                                   \"Mouse ID\":(mouse_id),\n",
    "                                   \"Tumor Volume (mm3)\": (tumor_vol),\n",
    "                                    \"Weight (g)\": (weigh)\n",
    "                                   })\n",
    "Average_tumor_vol = Average_tumor_vol[[\n",
    "                                    \"Mouse ID\",\n",
    "                                   \"Tumor Volume (mm3)\",\n",
    "                                    \"Weight (g)\"\n",
    "                                        ]]\n",
    "Average_tumor_vol\n",
    "Avg_tumor_vol = Average_tumor_vol.groupby([\"Mouse ID\"])\n",
    "Avg_tumor_vol.mean()\n",
    "weights = [22,\n",
    "21,\n",
    "17,\n",
    "19,\n",
    "22,\n",
    "24,\n",
    "20,\n",
    "23,\n",
    "21,\n",
    "21,\n",
    "19,\n",
    "17,\n",
    "19,\n",
    "25,\n",
    "17,\n",
    "25,\n",
    "17,\n",
    "23,\n",
    "17,\n",
    "17,\n",
    "21,\n",
    "23,\n",
    "21,\n",
    "15,\n",
    "17]\n",
    "tumors_vol = [41.400,\n",
    "39.500,\n",
    "36.000,\n",
    "41.500,\n",
    "44.200,\n",
    "44.200,\n",
    "38.600,\n",
    "44.100,\n",
    "42.875,\n",
    "44.000,\n",
    "42.100,\n",
    "34.400,\n",
    "38.500,\n",
    "45.500,\n",
    "36.100,\n",
    "43.000,\n",
    "34.000,\n",
    "42.400,\n",
    "38.800,\n",
    "39.500,\n",
    "41.100,\n",
    "41.000,\n",
    "40.900,\n",
    "35.800,\n",
    "38.000]\n",
    "plt.scatter(weights, tumors_vol, marker=\"o\", facecolors=\"red\", edgecolors=\"black\")\n",
    "plt.xlabel(\"Weight (g)\")\n",
    "plt.ylabel(\"Tumor Volume (mm3)\")"
   ]
  },
  {
   "cell_type": "markdown",
   "metadata": {},
   "source": [
    "## Correlation and Regression"
   ]
  },
  {
   "cell_type": "code",
   "execution_count": 75,
   "metadata": {},
   "outputs": [
    {
     "data": {
      "image/png": "[encoded data removed]",
      "text/plain": [
       "<Figure size 432x288 with 1 Axes>"
      ]
     },
     "metadata": {
      "needs_background": "light"
     },
     "output_type": "display_data"
    }
   ],
   "source": [
    "# Calculate the correlation coefficient and linear regression model \n",
    "# for mouse weight and average tumor volume for the Capomulin regimen\n",
    "linear_reg = pd.DataFrame({\n",
    "    'weight1':(weights),\n",
    "    \"tumors_vol\":(tumors_vol),\n",
    "                                   })\n",
    "linear_reg = linear_reg[[    \n",
    "    'weight1',\n",
    "    \"tumors_vol\",]]\n",
    "linear_reg\n",
    "weight1 = linear_reg[\"weight1\"].astype(int)\n",
    "(slope, intercept, rvalue, pvalue, stderr) = linregress(weight1, tumors_vol)\n",
    "regress_values = weight1 * slope + intercept\n",
    "line_eq = \"y = \" + str(round(slope,2)) + \"x + \" + str(round(intercept,2))\n",
    "plt.scatter(weight1,tumors_vol)\n",
    "plt.plot(weight1,regress_values,\"r-\")\n",
    "plt.annotate(line_eq,(6,10),fontsize=15,color=\"red\")\n",
    "plt.xlabel(\"Weight (g)\")\n",
    "plt.ylabel(\"Tumor Volume (mm3)\")\n",
    "plt.show()"
   ]
  },
  {
   "cell_type": "code",
   "execution_count": null,
   "metadata": {},
   "outputs": [],
   "source": []
  },
  {
   "cell_type": "code",
   "execution_count": null,
   "metadata": {},
   "outputs": [],
   "source": []
  }
 ],
 "metadata": {
  "anaconda-cloud": {},
  "kernelspec": {
   "display_name": "PythonData",
   "language": "python",
   "name": "pythondata"
  },
  "language_info": {
   "codemirror_mode": {
    "name": "ipython",
    "version": 3
   },
   "file_extension": ".py",
   "mimetype": "text/x-python",
   "name": "python",
   "nbconvert_exporter": "python",
   "pygments_lexer": "ipython3",
   "version": "3.8.1"
  }
 },
 "nbformat": 4,
 "nbformat_minor": 4
}
