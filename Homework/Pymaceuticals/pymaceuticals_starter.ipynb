{
 "cells": [
  {
   "cell_type": "markdown",
   "metadata": {},
   "source": [
    "## Observations and Insights "
   ]
  },
  {
   "cell_type": "markdown",
   "metadata": {},
   "source": []
  },
  {
   "cell_type": "code",
   "execution_count": 224,
   "metadata": {},
   "outputs": [
    {
     "ename": "ModuleNotFoundError",
     "evalue": "No module named 'sklearn'",
     "output_type": "error",
     "traceback": [
      "\u001b[1;31m---------------------------------------------------------------------------\u001b[0m",
      "\u001b[1;31mModuleNotFoundError\u001b[0m                       Traceback (most recent call last)",
      "\u001b[1;32m<ipython-input-224-11d32077901d>\u001b[0m in \u001b[0;36m<module>\u001b[1;34m\u001b[0m\n\u001b[0;32m      5\u001b[0m \u001b[1;32mimport\u001b[0m \u001b[0mnumpy\u001b[0m \u001b[1;32mas\u001b[0m \u001b[0mnp\u001b[0m\u001b[1;33m\u001b[0m\u001b[1;33m\u001b[0m\u001b[0m\n\u001b[0;32m      6\u001b[0m \u001b[1;32mfrom\u001b[0m \u001b[0mscipy\u001b[0m\u001b[1;33m.\u001b[0m\u001b[0mstats\u001b[0m \u001b[1;32mimport\u001b[0m \u001b[0mlinregress\u001b[0m\u001b[1;33m\u001b[0m\u001b[1;33m\u001b[0m\u001b[0m\n\u001b[1;32m----> 7\u001b[1;33m \u001b[1;32mfrom\u001b[0m \u001b[0msklearn\u001b[0m \u001b[1;32mimport\u001b[0m \u001b[0mdatasets\u001b[0m\u001b[1;33m\u001b[0m\u001b[1;33m\u001b[0m\u001b[0m\n\u001b[0m\u001b[0;32m      8\u001b[0m \u001b[1;33m\u001b[0m\u001b[0m\n\u001b[0;32m      9\u001b[0m \u001b[1;31m# Study data files\u001b[0m\u001b[1;33m\u001b[0m\u001b[1;33m\u001b[0m\u001b[1;33m\u001b[0m\u001b[0m\n",
      "\u001b[1;31mModuleNotFoundError\u001b[0m: No module named 'sklearn'"
     ]
    }
   ],
   "source": [
    "# Dependencies and Setup\n",
    "import matplotlib.pyplot as plt\n",
    "import pandas as pd\n",
    "import scipy.stats as st\n",
    "import numpy as np\n",
    "from scipy.stats import linregress\n",
    "\n",
    "# Study data files\n",
    "mouse_metadata_path = \"data/Mouse_metadata.csv\"\n",
    "study_results_path = \"data/Study_results.csv\"\n",
    "\n",
    "# Read the mouse data and the study results\n",
    "mouse_metadata = pd.read_csv(mouse_metadata_path)\n",
    "study_results = pd.read_csv(study_results_path)\n",
    "\n",
    "mouse_data= pd.read_csv(mouse_metadata_path)\n",
    "study_data= pd.read_csv(study_results_path)\n",
    "\n",
    "# Combine the data into a single dataset\n",
    "combined_data = pd.merge(mouse_metadata, study_results, how=\"left\", on=[\"Mouse ID\", \"Mouse ID\"])\n",
    "combined_data\n",
    "combined_data2 =pd.merge(mouse_data, study_data, how=\"left\", on=[\"Mouse ID\", \"Mouse ID\"])\n",
    "combined_data2"
   ]
  },
  {
   "cell_type": "code",
   "execution_count": 38,
   "metadata": {},
   "outputs": [
    {
     "name": "stdout",
     "output_type": "stream",
     "text": [
      "249\n",
      "1893\n"
     ]
    }
   ],
   "source": [
    "# Checking the number of mice in the DataFrame.\n",
    "mouse_id = mouse_metadata[\"Mouse ID\"].count()\n",
    "print(mouse_id)\n",
    "total_mouse = combined_data[\"Mouse ID\"].count()\n",
    "print(total_mouse)"
   ]
  },
  {
   "cell_type": "code",
   "execution_count": 39,
   "metadata": {},
   "outputs": [
    {
     "name": "stdout",
     "output_type": "stream",
     "text": [
      "    Mouse ID Drug Regimen     Sex  Age_months  Weight (g)  Timepoint  \\\n",
      "909     g989     Propriva  Female          21          26          0   \n",
      "\n",
      "     Tumor Volume (mm3)  Metastatic Sites  \n",
      "909                45.0                 0  \n"
     ]
    }
   ],
   "source": [
    "# Getting the duplicate mice by ID number that shows up for Mouse ID and Timepoint. \n",
    "duplicate = combined_data[combined_data.duplicated()]\n",
    "print(duplicate)"
   ]
  },
  {
   "cell_type": "code",
   "execution_count": 40,
   "metadata": {},
   "outputs": [],
   "source": [
    "# Optional: Get all the data for the duplicate mouse ID. \n"
   ]
  },
  {
   "cell_type": "code",
   "execution_count": 41,
   "metadata": {},
   "outputs": [
    {
     "data": {
      "text/html": [
       "<div>\n",
       "<style scoped>\n",
       "    .dataframe tbody tr th:only-of-type {\n",
       "        vertical-align: middle;\n",
       "    }\n",
       "\n",
       "    .dataframe tbody tr th {\n",
       "        vertical-align: top;\n",
       "    }\n",
       "\n",
       "    .dataframe thead th {\n",
       "        text-align: right;\n",
       "    }\n",
       "</style>\n",
       "<table border=\"1\" class=\"dataframe\">\n",
       "  <thead>\n",
       "    <tr style=\"text-align: right;\">\n",
       "      <th></th>\n",
       "      <th>Mouse ID</th>\n",
       "      <th>Drug Regimen</th>\n",
       "      <th>Sex</th>\n",
       "      <th>Age_months</th>\n",
       "      <th>Weight (g)</th>\n",
       "      <th>Timepoint</th>\n",
       "      <th>Tumor Volume (mm3)</th>\n",
       "      <th>Metastatic Sites</th>\n",
       "    </tr>\n",
       "  </thead>\n",
       "  <tbody>\n",
       "    <tr>\n",
       "      <th>0</th>\n",
       "      <td>k403</td>\n",
       "      <td>Ramicane</td>\n",
       "      <td>Male</td>\n",
       "      <td>21</td>\n",
       "      <td>16</td>\n",
       "      <td>0</td>\n",
       "      <td>45.000000</td>\n",
       "      <td>0</td>\n",
       "    </tr>\n",
       "    <tr>\n",
       "      <th>1</th>\n",
       "      <td>k403</td>\n",
       "      <td>Ramicane</td>\n",
       "      <td>Male</td>\n",
       "      <td>21</td>\n",
       "      <td>16</td>\n",
       "      <td>5</td>\n",
       "      <td>38.825898</td>\n",
       "      <td>0</td>\n",
       "    </tr>\n",
       "    <tr>\n",
       "      <th>2</th>\n",
       "      <td>k403</td>\n",
       "      <td>Ramicane</td>\n",
       "      <td>Male</td>\n",
       "      <td>21</td>\n",
       "      <td>16</td>\n",
       "      <td>10</td>\n",
       "      <td>35.014271</td>\n",
       "      <td>1</td>\n",
       "    </tr>\n",
       "    <tr>\n",
       "      <th>3</th>\n",
       "      <td>k403</td>\n",
       "      <td>Ramicane</td>\n",
       "      <td>Male</td>\n",
       "      <td>21</td>\n",
       "      <td>16</td>\n",
       "      <td>15</td>\n",
       "      <td>34.223992</td>\n",
       "      <td>1</td>\n",
       "    </tr>\n",
       "    <tr>\n",
       "      <th>4</th>\n",
       "      <td>k403</td>\n",
       "      <td>Ramicane</td>\n",
       "      <td>Male</td>\n",
       "      <td>21</td>\n",
       "      <td>16</td>\n",
       "      <td>20</td>\n",
       "      <td>32.997729</td>\n",
       "      <td>1</td>\n",
       "    </tr>\n",
       "    <tr>\n",
       "      <th>...</th>\n",
       "      <td>...</td>\n",
       "      <td>...</td>\n",
       "      <td>...</td>\n",
       "      <td>...</td>\n",
       "      <td>...</td>\n",
       "      <td>...</td>\n",
       "      <td>...</td>\n",
       "      <td>...</td>\n",
       "    </tr>\n",
       "    <tr>\n",
       "      <th>1888</th>\n",
       "      <td>z969</td>\n",
       "      <td>Naftisol</td>\n",
       "      <td>Male</td>\n",
       "      <td>9</td>\n",
       "      <td>30</td>\n",
       "      <td>25</td>\n",
       "      <td>63.145652</td>\n",
       "      <td>2</td>\n",
       "    </tr>\n",
       "    <tr>\n",
       "      <th>1889</th>\n",
       "      <td>z969</td>\n",
       "      <td>Naftisol</td>\n",
       "      <td>Male</td>\n",
       "      <td>9</td>\n",
       "      <td>30</td>\n",
       "      <td>30</td>\n",
       "      <td>65.841013</td>\n",
       "      <td>3</td>\n",
       "    </tr>\n",
       "    <tr>\n",
       "      <th>1890</th>\n",
       "      <td>z969</td>\n",
       "      <td>Naftisol</td>\n",
       "      <td>Male</td>\n",
       "      <td>9</td>\n",
       "      <td>30</td>\n",
       "      <td>35</td>\n",
       "      <td>69.176246</td>\n",
       "      <td>4</td>\n",
       "    </tr>\n",
       "    <tr>\n",
       "      <th>1891</th>\n",
       "      <td>z969</td>\n",
       "      <td>Naftisol</td>\n",
       "      <td>Male</td>\n",
       "      <td>9</td>\n",
       "      <td>30</td>\n",
       "      <td>40</td>\n",
       "      <td>70.314904</td>\n",
       "      <td>4</td>\n",
       "    </tr>\n",
       "    <tr>\n",
       "      <th>1892</th>\n",
       "      <td>z969</td>\n",
       "      <td>Naftisol</td>\n",
       "      <td>Male</td>\n",
       "      <td>9</td>\n",
       "      <td>30</td>\n",
       "      <td>45</td>\n",
       "      <td>73.867845</td>\n",
       "      <td>4</td>\n",
       "    </tr>\n",
       "  </tbody>\n",
       "</table>\n",
       "<p>1880 rows × 8 columns</p>\n",
       "</div>"
      ],
      "text/plain": [
       "     Mouse ID Drug Regimen   Sex  Age_months  Weight (g)  Timepoint  \\\n",
       "0        k403     Ramicane  Male          21          16          0   \n",
       "1        k403     Ramicane  Male          21          16          5   \n",
       "2        k403     Ramicane  Male          21          16         10   \n",
       "3        k403     Ramicane  Male          21          16         15   \n",
       "4        k403     Ramicane  Male          21          16         20   \n",
       "...       ...          ...   ...         ...         ...        ...   \n",
       "1888     z969     Naftisol  Male           9          30         25   \n",
       "1889     z969     Naftisol  Male           9          30         30   \n",
       "1890     z969     Naftisol  Male           9          30         35   \n",
       "1891     z969     Naftisol  Male           9          30         40   \n",
       "1892     z969     Naftisol  Male           9          30         45   \n",
       "\n",
       "      Tumor Volume (mm3)  Metastatic Sites  \n",
       "0              45.000000                 0  \n",
       "1              38.825898                 0  \n",
       "2              35.014271                 1  \n",
       "3              34.223992                 1  \n",
       "4              32.997729                 1  \n",
       "...                  ...               ...  \n",
       "1888           63.145652                 2  \n",
       "1889           65.841013                 3  \n",
       "1890           69.176246                 4  \n",
       "1891           70.314904                 4  \n",
       "1892           73.867845                 4  \n",
       "\n",
       "[1880 rows x 8 columns]"
      ]
     },
     "execution_count": 41,
     "metadata": {},
     "output_type": "execute_result"
    }
   ],
   "source": [
    "# Create a clean DataFrame by dropping the duplicate mouse by its ID.\n",
    "clean_mouse = combined_data.loc[combined_data[\"Mouse ID\"] != \"g989\"]\n",
    "clean_mouse"
   ]
  },
  {
   "cell_type": "code",
   "execution_count": 42,
   "metadata": {},
   "outputs": [
    {
     "name": "stdout",
     "output_type": "stream",
     "text": [
      "248\n"
     ]
    }
   ],
   "source": [
    "# Checking the number of mice in the clean DataFrame.\n",
    "mouse_count = clean_mouse[\"Mouse ID\"].nunique()\n",
    "print(mouse_count)"
   ]
  },
  {
   "cell_type": "code",
   "execution_count": null,
   "metadata": {},
   "outputs": [],
   "source": []
  },
  {
   "cell_type": "markdown",
   "metadata": {},
   "source": [
    "## Summary Statistics"
   ]
  },
  {
   "cell_type": "code",
   "execution_count": 146,
   "metadata": {},
   "outputs": [
    {
     "name": "stdout",
     "output_type": "stream",
     "text": [
      "['Ramicane' 'Capomulin' 'Infubinol' 'Placebo' 'Ceftamin' 'Stelasyn'\n",
      " 'Zoniferol' 'Ketapril' 'Propriva' 'Naftisol']\n",
      "23.486703952095258\n",
      "0.3209546065084816\n",
      "count    228.000000\n",
      "mean      40.216745\n",
      "std        4.846308\n",
      "min       22.050126\n",
      "25%       36.674635\n",
      "50%       40.673236\n",
      "75%       45.000000\n",
      "max       47.622816\n",
      "Name: Tumor Volume (mm3), dtype: float64\n",
      "24.947764120254853\n",
      "0.32934562340083096\n",
      "count    230.000000\n",
      "mean      40.675741\n",
      "std        4.994774\n",
      "min       23.343598\n",
      "25%       37.685933\n",
      "50%       41.557809\n",
      "75%       45.000000\n",
      "max       48.158209\n",
      "Name: Tumor Volume (mm3), dtype: float64\n",
      "43.12868412883606\n",
      "0.4922356938011383\n",
      "count    178.000000\n",
      "mean      52.884795\n",
      "std        6.567243\n",
      "min       36.321346\n",
      "25%       47.312353\n",
      "50%       51.820584\n",
      "75%       57.314444\n",
      "max       72.226731\n",
      "Name: Tumor Volume (mm3), dtype: float64\n",
      "61.16808293669703\n",
      "0.5813305510593876\n",
      "count    181.000000\n",
      "mean      54.033581\n",
      "std        7.821003\n",
      "min       45.000000\n",
      "25%       47.459053\n",
      "50%       52.288934\n",
      "75%       59.916934\n",
      "max       73.212939\n",
      "Name: Tumor Volume (mm3), dtype: float64\n",
      "39.290177273278594\n",
      "0.46982053275261093\n",
      "count    178.000000\n",
      "mean      52.591172\n",
      "std        6.268188\n",
      "min       45.000000\n",
      "25%       47.208427\n",
      "50%       51.776157\n",
      "75%       56.801438\n",
      "max       68.923185\n",
      "Name: Tumor Volume (mm3), dtype: float64\n",
      "59.45056167336598\n",
      "0.5731109332771458\n",
      "count    181.000000\n",
      "mean      54.233149\n",
      "std        7.710419\n",
      "min       45.000000\n",
      "25%       48.047139\n",
      "50%       52.431737\n",
      "75%       58.719297\n",
      "max       75.123690\n",
      "Name: Tumor Volume (mm3), dtype: float64\n",
      "48.533355389386095\n",
      "0.5163978968332169\n",
      "count    182.000000\n",
      "mean      53.236507\n",
      "std        6.966589\n",
      "min       45.000000\n",
      "25%       47.337876\n",
      "50%       51.818479\n",
      "75%       57.954259\n",
      "max       73.324432\n",
      "Name: Tumor Volume (mm3), dtype: float64\n",
      "68.55357711244599\n",
      "0.6038598237739697\n",
      "count    188.000000\n",
      "mean      55.235638\n",
      "std        8.279709\n",
      "min       45.000000\n",
      "25%       48.232987\n",
      "50%       53.698743\n",
      "75%       60.870951\n",
      "max       78.567014\n",
      "Name: Tumor Volume (mm3), dtype: float64\n",
      "43.852013013020404\n",
      "0.544332054194047\n",
      "count    148.000000\n",
      "mean      52.320930\n",
      "std        6.622085\n",
      "min       45.000000\n",
      "25%       46.894328\n",
      "50%       50.446266\n",
      "75%       56.491585\n",
      "max       72.455421\n",
      "Name: Tumor Volume (mm3), dtype: float64\n",
      "66.17347898736507\n",
      "0.5964657512424235\n",
      "count    186.000000\n",
      "mean      54.331565\n",
      "std        8.134708\n",
      "min       45.000000\n",
      "25%       47.285874\n",
      "50%       52.509285\n",
      "75%       59.963034\n",
      "max       76.668817\n",
      "Name: Tumor Volume (mm3), dtype: float64\n"
     ]
    }
   ],
   "source": [
    "# Generate a summary statistics table of mean, median, variance, standard deviation, and SEM of the tumor volume for each regimen\n",
    "Regimen_list = clean_mouse[\"Drug Regimen\"].unique()\n",
    "print(Regimen_list)\n",
    "columns = [\"Mouse ID\",\"Drug Regimen\",\"Sex\",\"Age_months\",\"Weight (g)\",\"Timepoint\",\"Tumor Volume (mm3)\",\"Metastatic Sites\"]\n",
    "Ramicane_df = clean_mouse.loc[clean_mouse[\"Drug Regimen\"] == \"Ramicane\", columns]\n",
    "Ramicane_df\n",
    "Ramicane = Ramicane_df[\"Tumor Volume (mm3)\"].describe()\n",
    "Ramicane_sem = Ramicane_df[\"Tumor Volume (mm3)\"].sem()\n",
    "Ramicane_var = Ramicane_df[\"Tumor Volume (mm3)\"].var()\n",
    "print(Ramicane_var)\n",
    "print(Ramicane_sem)\n",
    "print(Ramicane)\n",
    "Capomulin_df = clean_mouse.loc[clean_mouse[\"Drug Regimen\"] == \"Capomulin\", columns]\n",
    "Capomulin_df\n",
    "Capomulin = Capomulin_df[\"Tumor Volume (mm3)\"].describe()\n",
    "Capomulin_sem = Capomulin_df[\"Tumor Volume (mm3)\"].sem()\n",
    "Capomulin_var = Capomulin_df[\"Tumor Volume (mm3)\"].var()\n",
    "print(Capomulin_var)\n",
    "print(Capomulin_sem)\n",
    "print(Capomulin)\n",
    "Infubinol_df = clean_mouse.loc[clean_mouse[\"Drug Regimen\"] == \"Infubinol\", columns]\n",
    "Infubinol_df\n",
    "Infubinol = Infubinol_df[\"Tumor Volume (mm3)\"].describe()\n",
    "Infubinol_sem = Infubinol_df[\"Tumor Volume (mm3)\"].sem()\n",
    "Infubinol_var = Infubinol_df[\"Tumor Volume (mm3)\"].var()\n",
    "print(Infubinol_var)\n",
    "print(Infubinol_sem)\n",
    "print(Infubinol)\n",
    "Placebo_df = clean_mouse.loc[clean_mouse[\"Drug Regimen\"] == \"Placebo\", columns]\n",
    "Placebo_df\n",
    "Placebo = Placebo_df[\"Tumor Volume (mm3)\"].describe()\n",
    "Placebo_sem = Placebo_df[\"Tumor Volume (mm3)\"].sem()\n",
    "Placebo_var = Placebo_df[\"Tumor Volume (mm3)\"].var()\n",
    "print(Placebo_var)\n",
    "print(Placebo_sem)\n",
    "print(Placebo)\n",
    "Ceftamin_df = clean_mouse.loc[clean_mouse[\"Drug Regimen\"] == \"Ceftamin\", columns]\n",
    "Ceftamin_df\n",
    "Ceftamin = Ceftamin_df[\"Tumor Volume (mm3)\"].describe()\n",
    "Ceftamin_sem = Ceftamin_df[\"Tumor Volume (mm3)\"].sem()\n",
    "Ceftamin_var = Ceftamin_df[\"Tumor Volume (mm3)\"].var()\n",
    "print(Ceftamin_var)\n",
    "print(Ceftamin_sem)\n",
    "print(Ceftamin)\n",
    "Stelasyn_df = clean_mouse.loc[clean_mouse[\"Drug Regimen\"] == \"Stelasyn\", columns]\n",
    "Stelasyn_df\n",
    "Stelasyn = Stelasyn_df[\"Tumor Volume (mm3)\"].describe()\n",
    "Stelasyn_sem = Stelasyn_df[\"Tumor Volume (mm3)\"].sem()\n",
    "Stelasyn_var = Stelasyn_df[\"Tumor Volume (mm3)\"].var()\n",
    "print(Stelasyn_var)\n",
    "print(Stelasyn_sem)\n",
    "print(Stelasyn)\n",
    "Zoniferol_df = clean_mouse.loc[clean_mouse[\"Drug Regimen\"] == \"Zoniferol\", columns]\n",
    "Zoniferol_df\n",
    "Zoniferol = Zoniferol_df[\"Tumor Volume (mm3)\"].describe()\n",
    "Zoniferol_sem = Zoniferol_df[\"Tumor Volume (mm3)\"].sem()\n",
    "Zoniferol_var = Zoniferol_df[\"Tumor Volume (mm3)\"].var()\n",
    "print(Zoniferol_var)\n",
    "print(Zoniferol_sem)\n",
    "print(Zoniferol)\n",
    "Ketapril_df = clean_mouse.loc[clean_mouse[\"Drug Regimen\"] == \"Ketapril\", columns]\n",
    "Ketapril_df\n",
    "Ketapril = Ketapril_df[\"Tumor Volume (mm3)\"].describe()\n",
    "Ketapril_sem = Ketapril_df[\"Tumor Volume (mm3)\"].sem()\n",
    "Ketapril_var = Ketapril_df[\"Tumor Volume (mm3)\"].var()\n",
    "print(Ketapril_var)\n",
    "print(Ketapril_sem)\n",
    "print(Ketapril)\n",
    "Propriva_df = clean_mouse.loc[clean_mouse[\"Drug Regimen\"] == \"Propriva\", columns]\n",
    "Propriva_df\n",
    "Propriva = Propriva_df[\"Tumor Volume (mm3)\"].describe()\n",
    "Propriva_sem = Propriva_df[\"Tumor Volume (mm3)\"].sem()\n",
    "Propriva_var = Propriva_df[\"Tumor Volume (mm3)\"].var()\n",
    "print(Propriva_var)\n",
    "print(Propriva_sem)\n",
    "print(Propriva)\n",
    "Naftisol_df = clean_mouse.loc[clean_mouse[\"Drug Regimen\"] == \"Naftisol\", columns]\n",
    "Naftisol_df\n",
    "Naftisol = Naftisol_df[\"Tumor Volume (mm3)\"].describe()\n",
    "Naftisol_sem = Naftisol_df[\"Tumor Volume (mm3)\"].sem()\n",
    "Naftisol_var = Naftisol_df[\"Tumor Volume (mm3)\"].var()\n",
    "print(Naftisol_var)\n",
    "print(Naftisol_sem)\n",
    "print(Naftisol)\n",
    "# This method is the most straighforward, creating multiple series and putting them all together at the end."
   ]
  },
  {
   "cell_type": "code",
   "execution_count": null,
   "metadata": {},
   "outputs": [],
   "source": []
  },
  {
   "cell_type": "code",
   "execution_count": 57,
   "metadata": {
    "scrolled": true
   },
   "outputs": [
    {
     "name": "stdout",
     "output_type": "stream",
     "text": [
      "         Ramicane   Capomulin   Infubinol     Placebo    Ceftamin    Stelasyn  \\\n",
      "count  228.000000  230.000000  178.000000  181.000000  178.000000  181.000000   \n",
      "mean    40.216745   40.675741   52.884795   54.033581   52.591172   54.233149   \n",
      "std      4.846308    4.994774    6.567243    7.821003    6.268188    7.710419   \n",
      "min     22.050126   23.343598   36.321346   45.000000   45.000000   45.000000   \n",
      "25%     36.674635   37.685933   47.312353   47.459053   47.208427   48.047139   \n",
      "50%     40.673236   41.557809   51.820584   52.288934   51.776157   52.431737   \n",
      "75%     45.000000   45.000000   57.314444   59.916934   56.801438   58.719297   \n",
      "max     47.622816   48.158209   72.226731   73.212939   68.923185   75.123690   \n",
      "\n",
      "        Zoniferol    Ketapril    Propriva    Naftisol  \n",
      "count  182.000000  188.000000  148.000000  186.000000  \n",
      "mean    53.236507   55.235638   52.320930   54.331565  \n",
      "std      6.966589    8.279709    6.622085    8.134708  \n",
      "min     45.000000   45.000000   45.000000   45.000000  \n",
      "25%     47.337876   48.232987   46.894328   47.285874  \n",
      "50%     51.818479   53.698743   50.446266   52.509285  \n",
      "75%     57.954259   60.870951   56.491585   59.963034  \n",
      "max     73.324432   78.567014   72.455421   76.668817  \n"
     ]
    }
   ],
   "source": [
    "# Generate a summary statistics table of mean, median, variance, standard deviation, and SEM of the tumor volume for each regimen\n",
    "tumor_mouse = pd.DataFrame({\n",
    "    'Ramicane':(Ramicane),\n",
    "    \"Capomulin\":(Capomulin),\n",
    "    \"Infubinol\":(Infubinol),\n",
    "    \"Placebo\":(Placebo),\n",
    "     \"Ceftamin\":(Ceftamin),\n",
    "    \"Stelasyn\":(Stelasyn),\n",
    "    \"Zoniferol\":(Zoniferol),\n",
    "    \"Ketapril\":(Ketapril),\n",
    "    \"Propriva\":(Propriva),\n",
    "    \"Naftisol\":(Naftisol)\n",
    "                                   })\n",
    "tumor_mouse = tumor_mouse[[    \n",
    "    'Ramicane',\n",
    "    \"Capomulin\",\n",
    "    \"Infubinol\",\n",
    "    \"Placebo\",\n",
    "     \"Ceftamin\",\n",
    "    \"Stelasyn\",\n",
    "    \"Zoniferol\",\n",
    "    \"Ketapril\",\n",
    "    \"Propriva\",\n",
    "    \"Naftisol\"]]\n",
    "print(tumor_mouse)"
   ]
  },
  {
   "cell_type": "markdown",
   "metadata": {},
   "source": [
    "## Bar Plots"
   ]
  },
  {
   "cell_type": "code",
   "execution_count": 36,
   "metadata": {},
   "outputs": [
    {
     "data": {
      "text/plain": [
       "Text(0, 0.5, '# of Datapoints')"
      ]
     },
     "execution_count": 36,
     "metadata": {},
     "output_type": "execute_result"
    },
    {
     "data": {
      "image/png": "[encoded data removed]",
      "text/plain": [
       "<Figure size 432x288 with 1 Axes>"
      ]
     },
     "metadata": {
      "needs_background": "light"
     },
     "output_type": "display_data"
    }
   ],
   "source": [
    "# Generate a bar plot showing the number of mice per time point for each treatment throughout the course of the study using pandas. \n",
    "clean_mouse[\"Drug Regimen\"].value_counts().plot(kind = \"bar\")\n",
    "plt.xlabel(\"Drug Regimen\")\n",
    "plt.ylabel(\"# of Datapoints\")"
   ]
  },
  {
   "cell_type": "code",
   "execution_count": 35,
   "metadata": {},
   "outputs": [
    {
     "data": {
      "text/plain": [
       "Text(0, 0.5, '# of Datapoints')"
      ]
     },
     "execution_count": 35,
     "metadata": {},
     "output_type": "execute_result"
    },
    {
     "data": {
      "image/png": "[encoded data removed]",
      "text/plain": [
       "<Figure size 432x288 with 1 Axes>"
      ]
     },
     "metadata": {
      "needs_background": "light"
     },
     "output_type": "display_data"
    }
   ],
   "source": [
    "# Generate a bar plot showing the number of mice per time point for each treatment throughout the course of the study using pyplot.\n",
    "Regimen_list = clean_mouse[\"Drug Regimen\"].unique()\n",
    "Regimen = clean_mouse[\"Drug Regimen\"].value_counts()\n",
    "x_axis = np.arange(len(Regimen))\n",
    "plt.bar(Regimen_list, Regimen, color=\"b\", align=\"center\")\n",
    "tick_locations = [value for value in x_axis]\n",
    "plt.xticks(tick_locations, Regimen_list, rotation=\"vertical\")\n",
    "plt.xlabel(\"Drug Regimen\")\n",
    "plt.ylabel(\"# of Datapoints\")"
   ]
  },
  {
   "cell_type": "markdown",
   "metadata": {},
   "source": [
    "## Pie Plots"
   ]
  },
  {
   "cell_type": "code",
   "execution_count": 98,
   "metadata": {},
   "outputs": [
    {
     "data": {
      "image/png": "[encoded data removed]",
      "text/plain": [
       "<Figure size 360x360 with 1 Axes>"
      ]
     },
     "metadata": {},
     "output_type": "display_data"
    }
   ],
   "source": [
    "# Generate a pie plot showing the distribution of female versus male mice using pandas\n",
    "gender_mouse = mouse_data.loc[mouse_data[\"Mouse ID\"] != \"g989\"]\n",
    "gender_mouse \n",
    "gender_clean_mouse = gender_mouse.groupby([\"Sex\"])\n",
    "gender_clean_mouse.count()\n",
    "pie_df = pd.DataFrame({'sex': [123 , 125]},\n",
    "                      index = ['Female', 'Male'])\n",
    "plot = pie_df.plot.pie(y='sex', figsize=(5,5))"
   ]
  },
  {
   "cell_type": "code",
   "execution_count": 100,
   "metadata": {},
   "outputs": [
    {
     "name": "stdout",
     "output_type": "stream",
     "text": [
      "123\n",
      "125\n"
     ]
    },
    {
     "data": {
      "text/plain": [
       "([<matplotlib.patches.Wedge at 0x1ab34b3a30>,\n",
       "  <matplotlib.patches.Wedge at 0x1ab34b8130>],\n",
       " [Text(-0.7829277575363616, -0.9094086685748517, 'Female'),\n",
       "  Text(0.7176837777416649, 0.8336246128602806, 'Male')],\n",
       " [Text(-0.45670785856287754, -0.5304883900019968, '49.6%'),\n",
       "  Text(0.39146387876818084, 0.4547043342874257, '50.4%')])"
      ]
     },
     "execution_count": 100,
     "metadata": {},
     "output_type": "execute_result"
    },
    {
     "data": {
      "image/png": "[encoded data removed]",
      "text/plain": [
       "<Figure size 432x288 with 1 Axes>"
      ]
     },
     "metadata": {},
     "output_type": "display_data"
    }
   ],
   "source": [
    "# Generate a pie plot showing the distribution of female versus male mice using pyplot\n",
    "\n",
    "rows = [\"Mouse ID\", \"Sex\"]\n",
    "Female_df = clean_mouse.loc[clean_mouse[\"Sex\"] == \"Female\", rows]\n",
    "Female_df\n",
    "Male_df = clean_mouse.loc[clean_mouse[\"Sex\"] == \"Male\", rows]\n",
    "Male_df\n",
    "female_mouse = Female_df[\"Mouse ID\"].nunique()\n",
    "print(female_mouse)\n",
    "male_mouse = Male_df[\"Mouse ID\"].nunique()\n",
    "print(male_mouse)\n",
    "\n",
    "labels = [\"Female\", \"Male\"]\n",
    "\n",
    "sizes = [123, 125]\n",
    "\n",
    "colors = [\"red\", \"blue\"]\n",
    "\n",
    "explode = (0.1, 0,)\n",
    "\n",
    "plt.pie(sizes, explode=explode, labels=labels, colors=colors,\n",
    "        autopct=\"%1.1f%%\", shadow=True, startangle=140)"
   ]
  },
  {
   "cell_type": "markdown",
   "metadata": {},
   "source": [
    "## Quartiles, Outliers and Boxplots"
   ]
  },
  {
   "cell_type": "code",
   "execution_count": 165,
   "metadata": {},
   "outputs": [
    {
     "name": "stdout",
     "output_type": "stream",
     "text": [
      "The Capomulin interquartile range of temperatures is: 7.314067135000002\n",
      "The Ramicane interquartile range of temperatures is: 8.325365415000007\n",
      "The Infubinol interquartile range of temperatures is: 10.002090667500006\n",
      "The Infubinol interquartile range of temperatures is: 9.5930104575\n",
      "Capomulin Values below 26.714832162499995 could be outliers.\n",
      "Capomulin Values above 32.51195187749999 could be outliers.\n",
      "Ramicane Values below 24.18658646249998 could be outliers.\n",
      "Ramicane Values above 32.51195187749999 could be outliers.\n",
      "Infubinol Values below 32.309217298749985 could be outliers.\n",
      "Infubinol Values above 42.31130796625 could be outliers.\n",
      "Ceftamin Values below 32.818911426250004 could be outliers.\n",
      "Ceftamin Values above 42.411921883750004 could be outliers.\n"
     ]
    }
   ],
   "source": [
    "# Calculate the final tumor volume of each mouse across four of the most promising treatment regimens. Calculate the IQR and quantitatively determine if there are any potential outliers. \n",
    "Capomulin_l = Capomulin.loc[\"25%\"]\n",
    "Capomulin_l\n",
    "Capomulin_u = Capomulin.loc[\"75%\"]\n",
    "Capomulin_u\n",
    "Capomulin_iqr = (Capomulin_u - Capomulin_l)\n",
    "Capomulin_iqr\n",
    "Capomulin_lower = Capomulin_l - (1.5*Capomulin_iqr)\n",
    "Capomulin_lower\n",
    "Capomulin_upper = Capomulin_u - (1.5*Ramicane_iqr)\n",
    "Capomulin_upper\n",
    "Ramicane_l = Ramicane.loc[\"25%\"]\n",
    "Ramicane_l\n",
    "Ramicane_u = Ramicane.loc[\"75%\"]\n",
    "Ramicane_u\n",
    "Ramicane_iqr = (Ramicane_u - Ramicane_l)\n",
    "Ramicane_iqr\n",
    "Ramicane_lower = Ramicane_l - (1.5*Ramicane_iqr)\n",
    "Ramicane_lower\n",
    "Ramicane_upper = Ramicane_u - (1.5*Ramicane_iqr)\n",
    "Ramicane_upper\n",
    "Infubinol_l = Infubinol.loc[\"25%\"]\n",
    "Infubinol_l\n",
    "Infubinol_u = Infubinol.loc[\"75%\"]\n",
    "Infubinol_u\n",
    "Infubinol_iqr = (Infubinol_u - Infubinol_l)\n",
    "Infubinol_iqr\n",
    "Infubinol_lower = Infubinol_l - (1.5*Infubinol_iqr)\n",
    "Infubinol_lower\n",
    "Infubinol_upper = Infubinol_u - (1.5*Infubinol_iqr)\n",
    "Infubinol_upper\n",
    "Ceftamin_l = Ceftamin.loc[\"25%\"]\n",
    "Ceftamin_l\n",
    "Ceftamin_u = Ceftamin.loc[\"75%\"]\n",
    "Ceftamin_u\n",
    "Ceftamin_iqr = (Ceftamin_u -Ceftamin_l)\n",
    "Ceftamin_iqr\n",
    "Ceftamin_lower = Ceftamin_l - (1.5*Ceftamin_iqr)\n",
    "Ceftamin_lower\n",
    "Ceftamin_upper = Ceftamin_u - (1.5*Ceftamin_iqr)\n",
    "Ceftamin_upper\n",
    "print(f\"The Capomulin interquartile range of temperatures is: {Capomulin_iqr}\")\n",
    "print(f\"The Ramicane interquartile range of temperatures is: {Ramicane_iqr}\")\n",
    "print(f\"The Infubinol interquartile range of temperatures is: {Infubinol_iqr}\")\n",
    "print(f\"The Infubinol interquartile range of temperatures is: {Ceftamin_iqr}\")\n",
    "print(f\"Capomulin Values below {Capomulin_lower} could be outliers.\")\n",
    "print(f\"Capomulin Values above {Capomulin_upper} could be outliers.\")\n",
    "print(f\"Ramicane Values below {Ramicane_lower} could be outliers.\")\n",
    "print(f\"Ramicane Values above {Ramicane_upper} could be outliers.\")\n",
    "print(f\"Infubinol Values below {Infubinol_lower} could be outliers.\")\n",
    "print(f\"Infubinol Values above {Infubinol_upper} could be outliers.\")\n",
    "print(f\"Ceftamin Values below {Ceftamin_lower} could be outliers.\")\n",
    "print(f\"Ceftamin Values above {Ceftamin_upper} could be outliers.\")"
   ]
  },
  {
   "cell_type": "code",
   "execution_count": 145,
   "metadata": {},
   "outputs": [
    {
     "data": {
      "image/png": "[encoded data removed]",
      "text/plain": [
       "<Figure size 432x288 with 1 Axes>"
      ]
     },
     "metadata": {
      "needs_background": "light"
     },
     "output_type": "display_data"
    }
   ],
   "source": [
    "# Generate a box plot of the final tumor volume of each mouse across four regimens of interest\n",
    "fig1, ax1 = plt.subplots()\n",
    "whisker = plt.boxplot([Capomulin, Ramicane, Infubinol, Ceftamin],\n",
    "                     labels = [\"Capomulin\", \"Ramicane\", \"Infubinol\", \"Ceftamin\"])"
   ]
  },
  {
   "cell_type": "markdown",
   "metadata": {},
   "source": [
    "## Line and Scatter Plots"
   ]
  },
  {
   "cell_type": "code",
   "execution_count": 212,
   "metadata": {},
   "outputs": [
    {
     "data": {
      "text/plain": [
       "Text(0, 0.5, 'Tumor Volume (mm3)')"
      ]
     },
     "execution_count": 212,
     "metadata": {},
     "output_type": "execute_result"
    },
    {
     "data": {
      "image/png": "[encoded data removed]",
      "text/plain": [
       "<Figure size 432x288 with 1 Axes>"
      ]
     },
     "metadata": {
      "needs_background": "light"
     },
     "output_type": "display_data"
    }
   ],
   "source": [
    "# Generate a line plot of time point versus tumor volume for a mouse treated with Capomulin\n",
    "Capomulin_b = Capomulin_df.loc[Capomulin_df[\"Mouse ID\"] == \"b128\", columns]\n",
    "Capomulin_b\n",
    "line = Capomulin_b.pivot(index = \"Timepoint\", columns = \"Mouse ID\", values = \"Tumor Volume (mm3)\").plot()\n",
    "plt.ylabel(\"Tumor Volume (mm3)\")"
   ]
  },
  {
   "cell_type": "code",
   "execution_count": 218,
   "metadata": {},
   "outputs": [
    {
     "data": {
      "text/plain": [
       "Text(0, 0.5, 'Tumor Volume (mm3)')"
      ]
     },
     "execution_count": 218,
     "metadata": {},
     "output_type": "execute_result"
    },
    {
     "data": {
      "image/png": "[encoded data removed]",
      "text/plain": [
       "<Figure size 432x288 with 1 Axes>"
      ]
     },
     "metadata": {
      "needs_background": "light"
     },
     "output_type": "display_data"
    }
   ],
   "source": [
    "# Generate a scatter plot of mouse weight versus average tumor volume for the Capomulin regimen\n",
    "tumor_vol = Capomulin_df[\"Tumor Volume (mm3)\"]\n",
    "mouse_id = Capomulin_df[\"Mouse ID\"]\n",
    "weigh = Capomulin_df[\"Weight (g)\"]\n",
    "Average_tumor_vol = pd.DataFrame({\n",
    "                                   \"Mouse ID\":(mouse_id),\n",
    "                                   \"Tumor Volume (mm3)\": (tumor_vol),\n",
    "                                    \"Weight (g)\": (weigh)\n",
    "                                   })\n",
    "Average_tumor_vol = Average_tumor_vol[[\n",
    "                                    \"Mouse ID\",\n",
    "                                   \"Tumor Volume (mm3)\",\n",
    "                                    \"Weight (g)\"\n",
    "                                        ]]\n",
    "Average_tumor_vol\n",
    "Avg_tumor_vol = Average_tumor_vol.groupby([\"Mouse ID\"])\n",
    "Avg_tumor_vol.mean()\n",
    "weights = [22,\n",
    "21,\n",
    "17,\n",
    "19,\n",
    "22,\n",
    "24,\n",
    "20,\n",
    "23,\n",
    "21,\n",
    "21,\n",
    "19,\n",
    "17,\n",
    "19,\n",
    "25,\n",
    "17,\n",
    "25,\n",
    "17,\n",
    "23,\n",
    "17,\n",
    "17,\n",
    "21,\n",
    "23,\n",
    "21,\n",
    "15,\n",
    "17]\n",
    "tumors_vol = [41.400,\n",
    "39.500,\n",
    "36.000,\n",
    "41.500,\n",
    "44.200,\n",
    "44.200,\n",
    "38.600,\n",
    "44.100,\n",
    "42.875,\n",
    "44.000,\n",
    "42.100,\n",
    "34.400,\n",
    "38.500,\n",
    "45.500,\n",
    "36.100,\n",
    "43.000,\n",
    "34.000,\n",
    "42.400,\n",
    "38.800,\n",
    "39.500,\n",
    "41.100,\n",
    "41.000,\n",
    "40.900,\n",
    "35.800,\n",
    "38.000]\n",
    "plt.scatter(weights, tumors_vol, marker=\"o\", facecolors=\"red\", edgecolors=\"black\")\n",
    "plt.xlabel(\"Weight (g)\")\n",
    "plt.ylabel(\"Tumor Volume (mm3)\")"
   ]
  },
  {
   "cell_type": "markdown",
   "metadata": {},
   "source": [
    "## Correlation and Regression"
   ]
  },
  {
   "cell_type": "code",
   "execution_count": 227,
   "metadata": {},
   "outputs": [
    {
     "ename": "TypeError",
     "evalue": "can't multiply sequence by non-int of type 'numpy.float64'",
     "output_type": "error",
     "traceback": [
      "\u001b[1;31m---------------------------------------------------------------------------\u001b[0m",
      "\u001b[1;31mTypeError\u001b[0m                                 Traceback (most recent call last)",
      "\u001b[1;32m<ipython-input-227-162ac6d62437>\u001b[0m in \u001b[0;36m<module>\u001b[1;34m\u001b[0m\n\u001b[0;32m      2\u001b[0m \u001b[1;31m# for mouse weight and average tumor volume for the Capomulin regimen\u001b[0m\u001b[1;33m\u001b[0m\u001b[1;33m\u001b[0m\u001b[1;33m\u001b[0m\u001b[0m\n\u001b[0;32m      3\u001b[0m \u001b[1;33m(\u001b[0m\u001b[0mslope\u001b[0m\u001b[1;33m,\u001b[0m \u001b[0mintercept\u001b[0m\u001b[1;33m,\u001b[0m \u001b[0mrvalue\u001b[0m\u001b[1;33m,\u001b[0m \u001b[0mpvalue\u001b[0m\u001b[1;33m,\u001b[0m \u001b[0mstderr\u001b[0m\u001b[1;33m)\u001b[0m \u001b[1;33m=\u001b[0m \u001b[0mlinregress\u001b[0m\u001b[1;33m(\u001b[0m\u001b[0mweights\u001b[0m\u001b[1;33m,\u001b[0m \u001b[0mtumors_vol\u001b[0m\u001b[1;33m)\u001b[0m\u001b[1;33m\u001b[0m\u001b[1;33m\u001b[0m\u001b[0m\n\u001b[1;32m----> 4\u001b[1;33m \u001b[0mregress_values\u001b[0m \u001b[1;33m=\u001b[0m \u001b[0mweights\u001b[0m \u001b[1;33m*\u001b[0m \u001b[0mslope\u001b[0m \u001b[1;33m+\u001b[0m \u001b[0mintercept\u001b[0m\u001b[1;33m\u001b[0m\u001b[1;33m\u001b[0m\u001b[0m\n\u001b[0m\u001b[0;32m      5\u001b[0m \u001b[0mline_eq\u001b[0m \u001b[1;33m=\u001b[0m \u001b[1;34m\"y = \"\u001b[0m \u001b[1;33m+\u001b[0m \u001b[0mstr\u001b[0m\u001b[1;33m(\u001b[0m\u001b[0mround\u001b[0m\u001b[1;33m(\u001b[0m\u001b[0mslope\u001b[0m\u001b[1;33m,\u001b[0m\u001b[1;36m2\u001b[0m\u001b[1;33m)\u001b[0m\u001b[1;33m)\u001b[0m \u001b[1;33m+\u001b[0m \u001b[1;34m\"x + \"\u001b[0m \u001b[1;33m+\u001b[0m \u001b[0mstr\u001b[0m\u001b[1;33m(\u001b[0m\u001b[0mround\u001b[0m\u001b[1;33m(\u001b[0m\u001b[0mintercept\u001b[0m\u001b[1;33m,\u001b[0m\u001b[1;36m2\u001b[0m\u001b[1;33m)\u001b[0m\u001b[1;33m)\u001b[0m\u001b[1;33m\u001b[0m\u001b[1;33m\u001b[0m\u001b[0m\n\u001b[0;32m      6\u001b[0m \u001b[0mplt\u001b[0m\u001b[1;33m.\u001b[0m\u001b[0mscatter\u001b[0m\u001b[1;33m(\u001b[0m\u001b[0mweights\u001b[0m\u001b[1;33m,\u001b[0m\u001b[0mtumors_vol\u001b[0m\u001b[1;33m)\u001b[0m\u001b[1;33m\u001b[0m\u001b[1;33m\u001b[0m\u001b[0m\n",
      "\u001b[1;31mTypeError\u001b[0m: can't multiply sequence by non-int of type 'numpy.float64'"
     ]
    }
   ],
   "source": [
    "# Calculate the correlation coefficient and linear regression model \n",
    "# for mouse weight and average tumor volume for the Capomulin regimen\n",
    "(slope, intercept, rvalue, pvalue, stderr) = linregress(weights, tumors_vol)\n",
    "regress_values = weights * slope + intercept\n",
    "line_eq = \"y = \" + str(round(slope,2)) + \"x + \" + str(round(intercept,2))\n",
    "plt.scatter(weights,tumors_vol)\n",
    "plt.plot(weights,regress_values,\"r-\")\n",
    "plt.annotate(line_eq,(6,10),fontsize=15,color=\"red\")\n",
    "plt.xlabel(\"Weight (g)\")\n",
    "plt.ylabel(\"Tumor Volume (mm3)\")\n",
    "plt.show()"
   ]
  },
  {
   "cell_type": "code",
   "execution_count": null,
   "metadata": {},
   "outputs": [],
   "source": []
  },
  {
   "cell_type": "code",
   "execution_count": null,
   "metadata": {},
   "outputs": [],
   "source": []
  }
 ],
 "metadata": {
  "anaconda-cloud": {},
  "kernelspec": {
   "display_name": "PythonData",
   "language": "python",
   "name": "pythondata"
  },
  "language_info": {
   "codemirror_mode": {
    "name": "ipython",
    "version": 3
   },
   "file_extension": ".py",
   "mimetype": "text/x-python",
   "name": "python",
   "nbconvert_exporter": "python",
   "pygments_lexer": "ipython3",
   "version": "3.8.1"
  }
 },
 "nbformat": 4,
 "nbformat_minor": 4
}
